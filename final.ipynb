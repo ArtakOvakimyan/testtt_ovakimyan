{
  "cells": [
    {
      "cell_type": "markdown",
      "source": [
        "<h1>SQL</h1>"
      ],
      "metadata": {
        "id": "Wfcfe7xDdEe-"
      }
    },
    {
      "cell_type": "markdown",
      "source": [
        "1.\tНайдите наибольший платеж по кредитной карте в разрезе ВСП. Формат вывода: ВСП, максимальный платёж."
      ],
      "metadata": {
        "id": "6ldu_U2XdPUd"
      }
    },
    {
      "cell_type": "code",
      "source": [
        "SELECT\n",
        "  vsp_id AS ВСП,\n",
        "  MAX(payment) AS Максимальный_платеж\n",
        "FROM CreditCardinf\n",
        "GROUP BY vsp_id;"
      ],
      "metadata": {
        "id": "OQIZqhWJdRQ7"
      },
      "execution_count": null,
      "outputs": []
    },
    {
      "cell_type": "markdown",
      "source": [
        "2.\tВывести следующую информацию по всем кредитным картам: ФИО, номер карты, кредитный лимит для тех записей, где будет совпадать номер договора WAY4."
      ],
      "metadata": {
        "id": "5cNyBlF8dODY"
      }
    },
    {
      "cell_type": "code",
      "source": [
        "SELECT\n",
        "  fio AS ФИО,\n",
        "  card_number AS Номер_карты,\n",
        "  credit_limit AS Кредитный_лимит\n",
        "FROM CreditCardinf\n",
        "WHERE way4_contract_number = 'WAY4';"
      ],
      "metadata": {
        "id": "D_75rg1MdRjr"
      },
      "execution_count": null,
      "outputs": []
    },
    {
      "cell_type": "markdown",
      "source": [
        "3.\tВывести все кредитные карты того ВСП, в котором обслуживается клиент с паспортными данными «12 34 567890»."
      ],
      "metadata": {
        "id": "7JU8w0BAdMj3"
      }
    },
    {
      "cell_type": "code",
      "source": [
        "SELECT\n",
        "  card_number AS Номер_карты\n",
        "FROM CreditCardinf\n",
        "WHERE passport_data = '12 34 567890'\n",
        "GROUP BY vsp_id;"
      ],
      "metadata": {
        "id": "UViNg3DzdR6l"
      },
      "execution_count": null,
      "outputs": []
    },
    {
      "cell_type": "markdown",
      "source": [
        "4.\tНеобходимо разработать код хранимой процедуры\\функции, которая при передаче в нее текущей отчетной даты будет возвращать в табличном режиме значения текущей даты и дат предыдущих 3 недель."
      ],
      "metadata": {
        "id": "6dCtFFRAdKeX"
      }
    },
    {
      "cell_type": "code",
      "source": [
        "@MS-SQL\n",
        "GO\n",
        "CREATE PROCEDURE get_previous_weeks_dates(\n",
        "  @report_date DATE\n",
        ")\n",
        "AS\n",
        "BEGIN\n",
        "  DECLARE @current_week_start_date DATE;\n",
        "  DECLARE @previous_week_start_date DATE;\n",
        "  DECLARE @two_weeks_ago_start_date DATE;\n",
        "  DECLARE @three_weeks_ago_start_date DATE;\n",
        "\n",
        "  -- Определить дату начала текущей недели\n",
        "  SET @current_week_start_date = DATEADD(DAY, -1 - DATEPART(dw, @report_date), @report_date);\n",
        "\n",
        "  -- Определить дату начала предыдущей недели\n",
        "  SET @previous_week_start_date = DATEADD(DAY, -7, @current_week_start_date);\n",
        "\n",
        "  -- Определить дату начала двух недель назад\n",
        "  SET @two_weeks_ago_start_date = DATEADD(DAY, -7, @previous_week_start_date);\n",
        "\n",
        "  -- Определить дату начала трех недель назад\n",
        "  SET @three_weeks_ago_start_date = DATEADD(DAY, -7, @two_weeks_ago_start_date);\n",
        "\n",
        "  -- Вывести даты в табличном формате\n",
        "  SELECT\n",
        "    @current_week_start_date\n",
        "  UNION\n",
        "  SELECT\n",
        "    @previous_week_start_date\n",
        "  UNION\n",
        "  SELECT\n",
        "    @two_weeks_ago_start_date\n",
        "  UNION\n",
        "  SELECT\n",
        "    @three_weeks_ago_start_date\n",
        "END;\n",
        "GO\n",
        "EXEC get_previous_weeks_dates @report_date = '2013-03-06'"
      ],
      "metadata": {
        "id": "mBQanYhadJ7Y"
      },
      "execution_count": null,
      "outputs": []
    },
    {
      "cell_type": "markdown",
      "source": [
        "<h1>DS & DE</h1>"
      ],
      "metadata": {
        "id": "Vh30tSbzeFO3"
      }
    },
    {
      "cell_type": "markdown",
      "source": [
        "5.\tЧем логистическая регрессия отличается от линейной?"
      ],
      "metadata": {
        "id": "bXBMZ8CneJFv"
      }
    },
    {
      "cell_type": "markdown",
      "source": [
        "<h3>Выходные значения и применение</h3>\n",
        "Линейная регрессия: Используется для предсказания непрерывных значений.<br>\n",
        "Логистическая регрессия: Используется для задач классификации, где необходимо предсказать категориальную переменную (число от 0 до 1)\n",
        "\n",
        "<h3>Распределение</h3>\n",
        "Линейная регрессия: подчиняется нормальную распределению.<br>\n",
        "Логистическая регрессия: следует биномиальному распределению\n",
        "\n",
        "<h3>Линия регрессии</h3>\n",
        "Линейная регрессия: прямая.<br>\n",
        "Логистическая регрессия: сигмоида"
      ],
      "metadata": {
        "id": "mqSs_7_leKxO"
      }
    },
    {
      "cell_type": "markdown",
      "source": [
        "6.\tЧем градиентный спуск отличается от стохастического градиентного спуска?"
      ],
      "metadata": {
        "id": "dtXtkYjAehI7"
      }
    },
    {
      "cell_type": "markdown",
      "source": [
        "Проблема обычного градиентного спуска заключается в том, что чтобы сделать один шаг градиентного спуска и изменить вектор весов необходимо вычислить градиент от каждого элемента выборки. <br>\n",
        "Стохастический градиентный спуск отличается от градиентного спуска тем, что для обновления весов модели используется только один случайно выбранный сэмпл из обучающей выборки."
      ],
      "metadata": {
        "id": "v1Urioc_eipS"
      }
    },
    {
      "cell_type": "markdown",
      "source": [
        "7.\tКакие компоненты входят в тройное экспоненциальное сглаживание временного ряда?"
      ],
      "metadata": {
        "id": "WzKJM1wnejJz"
      }
    },
    {
      "cell_type": "markdown",
      "source": [
        "Экспоненциальное сглаживание - метод прогнозирования временных рядов.<br>\n",
        "Тройное экспоненциальное сглаживание учитывает:\n",
        "\n",
        "*   Уровень (L): Представляет собой базовое значение временного ряда в данный момент времени.\n",
        "*   Тренд (T): Отражает направление и скорость изменения уровня со временем.\n",
        "*   Сезонность (S): Учитывает повторяющиеся колебания уровня в течение определенного периода, например, сезонные колебания продаж."
      ],
      "metadata": {
        "id": "aKMWYmYAekls"
      }
    },
    {
      "cell_type": "markdown",
      "source": [
        "8.\tИзвестные Вам метрики качества для классификации и регрессии?"
      ],
      "metadata": {
        "id": "T51U9JmVely1"
      }
    },
    {
      "cell_type": "markdown",
      "source": [
        "<h3>Классификация:</h3>\n",
        "Метрики, получаемые с помощью значений матрицы ошибок\n",
        "Accuracy (Точность)<br>\n",
        "Precision (Точность предсказаний положительных объектов)<br>\n",
        "Recall (Плотность)<br>\n",
        "F1-мера (Precision-Recall)<br>\n",
        "ROC-AUC (площадь под ROC-кривой)<br>\n",
        "<h3>Регрессия:</h3>\n",
        "MSE (Mean Squared Error)<br>\n",
        "RMSE (Root Mean Squared Error)<br>\n",
        "MAE (Mean absolute error)<br>\n",
        "MAPE (Mean absolute percentage error)<br>\n",
        "R^2 (Объясненная дисперсия)<br>"
      ],
      "metadata": {
        "id": "SauwBizAeqB4"
      }
    },
    {
      "cell_type": "markdown",
      "source": [
        "9.\tДля чего нужна регуляризация?"
      ],
      "metadata": {
        "id": "3dtv-5zqenZG"
      }
    },
    {
      "cell_type": "markdown",
      "source": [
        "Для борьбы с переобучением. Модель становится склонна к переобучению, когда у неё излишне много параметров, и при работе модели с данными из тестовой выборки, которые она ранее во время обучения не видела, наблюдаются частые ошибки.<br>\n",
        "Один из вариантов реализации регуляризации - Dropout. Он случайным образом \"отключает\" нейроны в сети во время обучения, предотвращая их совместную адаптацию к тренировочным данным.\n",
        "\n"
      ],
      "metadata": {
        "id": "Rq7oeaojC5Yo"
      }
    },
    {
      "cell_type": "code",
      "execution_count": 1,
      "metadata": {
        "id": "0ZKiOChfUu8E"
      },
      "outputs": [],
      "source": [
        "# иморитирование всех необходимых библиотек\n",
        "import pandas as pd\n",
        "import seaborn as sns\n",
        "import matplotlib.pyplot as plt"
      ]
    },
    {
      "cell_type": "code",
      "execution_count": 2,
      "metadata": {
        "colab": {
          "base_uri": "https://localhost:8080/"
        },
        "id": "zY4UzptSU_4Z",
        "outputId": "7f5201c6-fec6-40cf-f809-8c6b7f63fa04"
      },
      "outputs": [
        {
          "output_type": "stream",
          "name": "stdout",
          "text": [
            "Train dataset shape: (100000, 14)\n"
          ]
        }
      ],
      "source": [
        "# Считываем данные\n",
        "df = pd.read_excel(\"dataset_taxi.xlsx\")\n",
        "\n",
        "print(f\"Train dataset shape: {df.shape}\")"
      ]
    },
    {
      "cell_type": "code",
      "execution_count": 3,
      "metadata": {
        "colab": {
          "base_uri": "https://localhost:8080/",
          "height": 226
        },
        "id": "0z_Zp7J5iEfV",
        "outputId": "d4111ffe-5027-42fb-fd62-d3371e66a320"
      },
      "outputs": [
        {
          "output_type": "execute_result",
          "data": {
            "text/plain": [
              "   offer_gk  weekday_key  hour_key  driver_gk  order_gk  driver_latitude  \\\n",
              "0   1105373            5        20       6080    174182        55.818842   \n",
              "1    759733            5        14       6080    358774        55.805342   \n",
              "2    416977            6        14       6080    866260        55.813978   \n",
              "3    889660            2         6       6080    163522        55.745922   \n",
              "4   1120055            4        16       6080    506710        55.803578   \n",
              "\n",
              "   driver_longitude  origin_order_latitude  origin_order_longitude  \\\n",
              "0         37.334562              55.814567               37.355010   \n",
              "1         37.515023              55.819329               37.466398   \n",
              "2         37.347688              55.814827               37.354074   \n",
              "3         37.421748              55.743469               37.431130   \n",
              "4         37.521602              55.812559               37.527407   \n",
              "\n",
              "   distance_km  duration_min offer_class_group ride_type_desc  driver_response  \n",
              "0       -1.000        -1.000           Economy        private                0  \n",
              "1       18.802        25.217          Standard        private                1  \n",
              "2        6.747         9.800           Economy        private                0  \n",
              "3       -1.000        -1.000           Economy        private                1  \n",
              "4       12.383        19.250           Economy        private                1  "
            ],
            "text/html": [
              "\n",
              "  <div id=\"df-6d6bac81-2505-4a09-8138-a313f53b50d6\" class=\"colab-df-container\">\n",
              "    <div>\n",
              "<style scoped>\n",
              "    .dataframe tbody tr th:only-of-type {\n",
              "        vertical-align: middle;\n",
              "    }\n",
              "\n",
              "    .dataframe tbody tr th {\n",
              "        vertical-align: top;\n",
              "    }\n",
              "\n",
              "    .dataframe thead th {\n",
              "        text-align: right;\n",
              "    }\n",
              "</style>\n",
              "<table border=\"1\" class=\"dataframe\">\n",
              "  <thead>\n",
              "    <tr style=\"text-align: right;\">\n",
              "      <th></th>\n",
              "      <th>offer_gk</th>\n",
              "      <th>weekday_key</th>\n",
              "      <th>hour_key</th>\n",
              "      <th>driver_gk</th>\n",
              "      <th>order_gk</th>\n",
              "      <th>driver_latitude</th>\n",
              "      <th>driver_longitude</th>\n",
              "      <th>origin_order_latitude</th>\n",
              "      <th>origin_order_longitude</th>\n",
              "      <th>distance_km</th>\n",
              "      <th>duration_min</th>\n",
              "      <th>offer_class_group</th>\n",
              "      <th>ride_type_desc</th>\n",
              "      <th>driver_response</th>\n",
              "    </tr>\n",
              "  </thead>\n",
              "  <tbody>\n",
              "    <tr>\n",
              "      <th>0</th>\n",
              "      <td>1105373</td>\n",
              "      <td>5</td>\n",
              "      <td>20</td>\n",
              "      <td>6080</td>\n",
              "      <td>174182</td>\n",
              "      <td>55.818842</td>\n",
              "      <td>37.334562</td>\n",
              "      <td>55.814567</td>\n",
              "      <td>37.355010</td>\n",
              "      <td>-1.000</td>\n",
              "      <td>-1.000</td>\n",
              "      <td>Economy</td>\n",
              "      <td>private</td>\n",
              "      <td>0</td>\n",
              "    </tr>\n",
              "    <tr>\n",
              "      <th>1</th>\n",
              "      <td>759733</td>\n",
              "      <td>5</td>\n",
              "      <td>14</td>\n",
              "      <td>6080</td>\n",
              "      <td>358774</td>\n",
              "      <td>55.805342</td>\n",
              "      <td>37.515023</td>\n",
              "      <td>55.819329</td>\n",
              "      <td>37.466398</td>\n",
              "      <td>18.802</td>\n",
              "      <td>25.217</td>\n",
              "      <td>Standard</td>\n",
              "      <td>private</td>\n",
              "      <td>1</td>\n",
              "    </tr>\n",
              "    <tr>\n",
              "      <th>2</th>\n",
              "      <td>416977</td>\n",
              "      <td>6</td>\n",
              "      <td>14</td>\n",
              "      <td>6080</td>\n",
              "      <td>866260</td>\n",
              "      <td>55.813978</td>\n",
              "      <td>37.347688</td>\n",
              "      <td>55.814827</td>\n",
              "      <td>37.354074</td>\n",
              "      <td>6.747</td>\n",
              "      <td>9.800</td>\n",
              "      <td>Economy</td>\n",
              "      <td>private</td>\n",
              "      <td>0</td>\n",
              "    </tr>\n",
              "    <tr>\n",
              "      <th>3</th>\n",
              "      <td>889660</td>\n",
              "      <td>2</td>\n",
              "      <td>6</td>\n",
              "      <td>6080</td>\n",
              "      <td>163522</td>\n",
              "      <td>55.745922</td>\n",
              "      <td>37.421748</td>\n",
              "      <td>55.743469</td>\n",
              "      <td>37.431130</td>\n",
              "      <td>-1.000</td>\n",
              "      <td>-1.000</td>\n",
              "      <td>Economy</td>\n",
              "      <td>private</td>\n",
              "      <td>1</td>\n",
              "    </tr>\n",
              "    <tr>\n",
              "      <th>4</th>\n",
              "      <td>1120055</td>\n",
              "      <td>4</td>\n",
              "      <td>16</td>\n",
              "      <td>6080</td>\n",
              "      <td>506710</td>\n",
              "      <td>55.803578</td>\n",
              "      <td>37.521602</td>\n",
              "      <td>55.812559</td>\n",
              "      <td>37.527407</td>\n",
              "      <td>12.383</td>\n",
              "      <td>19.250</td>\n",
              "      <td>Economy</td>\n",
              "      <td>private</td>\n",
              "      <td>1</td>\n",
              "    </tr>\n",
              "  </tbody>\n",
              "</table>\n",
              "</div>\n",
              "    <div class=\"colab-df-buttons\">\n",
              "\n",
              "  <div class=\"colab-df-container\">\n",
              "    <button class=\"colab-df-convert\" onclick=\"convertToInteractive('df-6d6bac81-2505-4a09-8138-a313f53b50d6')\"\n",
              "            title=\"Convert this dataframe to an interactive table.\"\n",
              "            style=\"display:none;\">\n",
              "\n",
              "  <svg xmlns=\"http://www.w3.org/2000/svg\" height=\"24px\" viewBox=\"0 -960 960 960\">\n",
              "    <path d=\"M120-120v-720h720v720H120Zm60-500h600v-160H180v160Zm220 220h160v-160H400v160Zm0 220h160v-160H400v160ZM180-400h160v-160H180v160Zm440 0h160v-160H620v160ZM180-180h160v-160H180v160Zm440 0h160v-160H620v160Z\"/>\n",
              "  </svg>\n",
              "    </button>\n",
              "\n",
              "  <style>\n",
              "    .colab-df-container {\n",
              "      display:flex;\n",
              "      gap: 12px;\n",
              "    }\n",
              "\n",
              "    .colab-df-convert {\n",
              "      background-color: #E8F0FE;\n",
              "      border: none;\n",
              "      border-radius: 50%;\n",
              "      cursor: pointer;\n",
              "      display: none;\n",
              "      fill: #1967D2;\n",
              "      height: 32px;\n",
              "      padding: 0 0 0 0;\n",
              "      width: 32px;\n",
              "    }\n",
              "\n",
              "    .colab-df-convert:hover {\n",
              "      background-color: #E2EBFA;\n",
              "      box-shadow: 0px 1px 2px rgba(60, 64, 67, 0.3), 0px 1px 3px 1px rgba(60, 64, 67, 0.15);\n",
              "      fill: #174EA6;\n",
              "    }\n",
              "\n",
              "    .colab-df-buttons div {\n",
              "      margin-bottom: 4px;\n",
              "    }\n",
              "\n",
              "    [theme=dark] .colab-df-convert {\n",
              "      background-color: #3B4455;\n",
              "      fill: #D2E3FC;\n",
              "    }\n",
              "\n",
              "    [theme=dark] .colab-df-convert:hover {\n",
              "      background-color: #434B5C;\n",
              "      box-shadow: 0px 1px 3px 1px rgba(0, 0, 0, 0.15);\n",
              "      filter: drop-shadow(0px 1px 2px rgba(0, 0, 0, 0.3));\n",
              "      fill: #FFFFFF;\n",
              "    }\n",
              "  </style>\n",
              "\n",
              "    <script>\n",
              "      const buttonEl =\n",
              "        document.querySelector('#df-6d6bac81-2505-4a09-8138-a313f53b50d6 button.colab-df-convert');\n",
              "      buttonEl.style.display =\n",
              "        google.colab.kernel.accessAllowed ? 'block' : 'none';\n",
              "\n",
              "      async function convertToInteractive(key) {\n",
              "        const element = document.querySelector('#df-6d6bac81-2505-4a09-8138-a313f53b50d6');\n",
              "        const dataTable =\n",
              "          await google.colab.kernel.invokeFunction('convertToInteractive',\n",
              "                                                    [key], {});\n",
              "        if (!dataTable) return;\n",
              "\n",
              "        const docLinkHtml = 'Like what you see? Visit the ' +\n",
              "          '<a target=\"_blank\" href=https://colab.research.google.com/notebooks/data_table.ipynb>data table notebook</a>'\n",
              "          + ' to learn more about interactive tables.';\n",
              "        element.innerHTML = '';\n",
              "        dataTable['output_type'] = 'display_data';\n",
              "        await google.colab.output.renderOutput(dataTable, element);\n",
              "        const docLink = document.createElement('div');\n",
              "        docLink.innerHTML = docLinkHtml;\n",
              "        element.appendChild(docLink);\n",
              "      }\n",
              "    </script>\n",
              "  </div>\n",
              "\n",
              "\n",
              "<div id=\"df-d7399605-0c04-4744-8470-97f1739a3f0c\">\n",
              "  <button class=\"colab-df-quickchart\" onclick=\"quickchart('df-d7399605-0c04-4744-8470-97f1739a3f0c')\"\n",
              "            title=\"Suggest charts\"\n",
              "            style=\"display:none;\">\n",
              "\n",
              "<svg xmlns=\"http://www.w3.org/2000/svg\" height=\"24px\"viewBox=\"0 0 24 24\"\n",
              "     width=\"24px\">\n",
              "    <g>\n",
              "        <path d=\"M19 3H5c-1.1 0-2 .9-2 2v14c0 1.1.9 2 2 2h14c1.1 0 2-.9 2-2V5c0-1.1-.9-2-2-2zM9 17H7v-7h2v7zm4 0h-2V7h2v10zm4 0h-2v-4h2v4z\"/>\n",
              "    </g>\n",
              "</svg>\n",
              "  </button>\n",
              "\n",
              "<style>\n",
              "  .colab-df-quickchart {\n",
              "      --bg-color: #E8F0FE;\n",
              "      --fill-color: #1967D2;\n",
              "      --hover-bg-color: #E2EBFA;\n",
              "      --hover-fill-color: #174EA6;\n",
              "      --disabled-fill-color: #AAA;\n",
              "      --disabled-bg-color: #DDD;\n",
              "  }\n",
              "\n",
              "  [theme=dark] .colab-df-quickchart {\n",
              "      --bg-color: #3B4455;\n",
              "      --fill-color: #D2E3FC;\n",
              "      --hover-bg-color: #434B5C;\n",
              "      --hover-fill-color: #FFFFFF;\n",
              "      --disabled-bg-color: #3B4455;\n",
              "      --disabled-fill-color: #666;\n",
              "  }\n",
              "\n",
              "  .colab-df-quickchart {\n",
              "    background-color: var(--bg-color);\n",
              "    border: none;\n",
              "    border-radius: 50%;\n",
              "    cursor: pointer;\n",
              "    display: none;\n",
              "    fill: var(--fill-color);\n",
              "    height: 32px;\n",
              "    padding: 0;\n",
              "    width: 32px;\n",
              "  }\n",
              "\n",
              "  .colab-df-quickchart:hover {\n",
              "    background-color: var(--hover-bg-color);\n",
              "    box-shadow: 0 1px 2px rgba(60, 64, 67, 0.3), 0 1px 3px 1px rgba(60, 64, 67, 0.15);\n",
              "    fill: var(--button-hover-fill-color);\n",
              "  }\n",
              "\n",
              "  .colab-df-quickchart-complete:disabled,\n",
              "  .colab-df-quickchart-complete:disabled:hover {\n",
              "    background-color: var(--disabled-bg-color);\n",
              "    fill: var(--disabled-fill-color);\n",
              "    box-shadow: none;\n",
              "  }\n",
              "\n",
              "  .colab-df-spinner {\n",
              "    border: 2px solid var(--fill-color);\n",
              "    border-color: transparent;\n",
              "    border-bottom-color: var(--fill-color);\n",
              "    animation:\n",
              "      spin 1s steps(1) infinite;\n",
              "  }\n",
              "\n",
              "  @keyframes spin {\n",
              "    0% {\n",
              "      border-color: transparent;\n",
              "      border-bottom-color: var(--fill-color);\n",
              "      border-left-color: var(--fill-color);\n",
              "    }\n",
              "    20% {\n",
              "      border-color: transparent;\n",
              "      border-left-color: var(--fill-color);\n",
              "      border-top-color: var(--fill-color);\n",
              "    }\n",
              "    30% {\n",
              "      border-color: transparent;\n",
              "      border-left-color: var(--fill-color);\n",
              "      border-top-color: var(--fill-color);\n",
              "      border-right-color: var(--fill-color);\n",
              "    }\n",
              "    40% {\n",
              "      border-color: transparent;\n",
              "      border-right-color: var(--fill-color);\n",
              "      border-top-color: var(--fill-color);\n",
              "    }\n",
              "    60% {\n",
              "      border-color: transparent;\n",
              "      border-right-color: var(--fill-color);\n",
              "    }\n",
              "    80% {\n",
              "      border-color: transparent;\n",
              "      border-right-color: var(--fill-color);\n",
              "      border-bottom-color: var(--fill-color);\n",
              "    }\n",
              "    90% {\n",
              "      border-color: transparent;\n",
              "      border-bottom-color: var(--fill-color);\n",
              "    }\n",
              "  }\n",
              "</style>\n",
              "\n",
              "  <script>\n",
              "    async function quickchart(key) {\n",
              "      const quickchartButtonEl =\n",
              "        document.querySelector('#' + key + ' button');\n",
              "      quickchartButtonEl.disabled = true;  // To prevent multiple clicks.\n",
              "      quickchartButtonEl.classList.add('colab-df-spinner');\n",
              "      try {\n",
              "        const charts = await google.colab.kernel.invokeFunction(\n",
              "            'suggestCharts', [key], {});\n",
              "      } catch (error) {\n",
              "        console.error('Error during call to suggestCharts:', error);\n",
              "      }\n",
              "      quickchartButtonEl.classList.remove('colab-df-spinner');\n",
              "      quickchartButtonEl.classList.add('colab-df-quickchart-complete');\n",
              "    }\n",
              "    (() => {\n",
              "      let quickchartButtonEl =\n",
              "        document.querySelector('#df-d7399605-0c04-4744-8470-97f1739a3f0c button');\n",
              "      quickchartButtonEl.style.display =\n",
              "        google.colab.kernel.accessAllowed ? 'block' : 'none';\n",
              "    })();\n",
              "  </script>\n",
              "</div>\n",
              "    </div>\n",
              "  </div>\n"
            ],
            "application/vnd.google.colaboratory.intrinsic+json": {
              "type": "dataframe",
              "variable_name": "df",
              "summary": "{\n  \"name\": \"df\",\n  \"rows\": 100000,\n  \"fields\": [\n    {\n      \"column\": \"offer_gk\",\n      \"properties\": {\n        \"dtype\": \"number\",\n        \"std\": 325935,\n        \"min\": 4,\n        \"max\": 1130355,\n        \"num_unique_values\": 100000,\n        \"samples\": [\n          71835,\n          467692,\n          597620\n        ],\n        \"semantic_type\": \"\",\n        \"description\": \"\"\n      }\n    },\n    {\n      \"column\": \"weekday_key\",\n      \"properties\": {\n        \"dtype\": \"number\",\n        \"std\": 2,\n        \"min\": 0,\n        \"max\": 6,\n        \"num_unique_values\": 7,\n        \"samples\": [\n          5,\n          6,\n          1\n        ],\n        \"semantic_type\": \"\",\n        \"description\": \"\"\n      }\n    },\n    {\n      \"column\": \"hour_key\",\n      \"properties\": {\n        \"dtype\": \"number\",\n        \"std\": 7,\n        \"min\": 0,\n        \"max\": 23,\n        \"num_unique_values\": 24,\n        \"samples\": [\n          12,\n          5,\n          20\n        ],\n        \"semantic_type\": \"\",\n        \"description\": \"\"\n      }\n    },\n    {\n      \"column\": \"driver_gk\",\n      \"properties\": {\n        \"dtype\": \"number\",\n        \"std\": 2038,\n        \"min\": 14,\n        \"max\": 6806,\n        \"num_unique_values\": 439,\n        \"samples\": [\n          5298,\n          3270,\n          1266\n        ],\n        \"semantic_type\": \"\",\n        \"description\": \"\"\n      }\n    },\n    {\n      \"column\": \"order_gk\",\n      \"properties\": {\n        \"dtype\": \"number\",\n        \"std\": 266064,\n        \"min\": 18,\n        \"max\": 920344,\n        \"num_unique_values\": 81435,\n        \"samples\": [\n          600211,\n          793032,\n          547176\n        ],\n        \"semantic_type\": \"\",\n        \"description\": \"\"\n      }\n    },\n    {\n      \"column\": \"driver_latitude\",\n      \"properties\": {\n        \"dtype\": \"number\",\n        \"std\": 2.1359033069239124,\n        \"min\": -1.0,\n        \"max\": 56.174097,\n        \"num_unique_values\": 57259,\n        \"samples\": [\n          55.766554000000006,\n          55.868347,\n          55.717505\n        ],\n        \"semantic_type\": \"\",\n        \"description\": \"\"\n      }\n    },\n    {\n      \"column\": \"driver_longitude\",\n      \"properties\": {\n        \"dtype\": \"number\",\n        \"std\": 1.4546400152871557,\n        \"min\": -1.0,\n        \"max\": 38.280547,\n        \"num_unique_values\": 59906,\n        \"samples\": [\n          37.634016,\n          37.634842,\n          37.615245\n        ],\n        \"semantic_type\": \"\",\n        \"description\": \"\"\n      }\n    },\n    {\n      \"column\": \"origin_order_latitude\",\n      \"properties\": {\n        \"dtype\": \"number\",\n        \"std\": 0.6659849742137842,\n        \"min\": -1.0,\n        \"max\": 56.31112099999999,\n        \"num_unique_values\": 32925,\n        \"samples\": [\n          55.764386,\n          55.746197,\n          55.782998\n        ],\n        \"semantic_type\": \"\",\n        \"description\": \"\"\n      }\n    },\n    {\n      \"column\": \"origin_order_longitude\",\n      \"properties\": {\n        \"dtype\": \"number\",\n        \"std\": 0.46775823395618893,\n        \"min\": -1.0,\n        \"max\": 38.243608,\n        \"num_unique_values\": 33646,\n        \"samples\": [\n          37.446905,\n          37.402858,\n          37.564363\n        ],\n        \"semantic_type\": \"\",\n        \"description\": \"\"\n      }\n    },\n    {\n      \"column\": \"distance_km\",\n      \"properties\": {\n        \"dtype\": \"number\",\n        \"std\": 41.12929569282123,\n        \"min\": -1.0,\n        \"max\": 5234.282999999999,\n        \"num_unique_values\": 31297,\n        \"samples\": [\n          13.903,\n          4.338,\n          3.978\n        ],\n        \"semantic_type\": \"\",\n        \"description\": \"\"\n      }\n    },\n    {\n      \"column\": \"duration_min\",\n      \"properties\": {\n        \"dtype\": \"number\",\n        \"std\": 33.890105072772954,\n        \"min\": -1.0,\n        \"max\": 3958.283,\n        \"num_unique_values\": 4728,\n        \"samples\": [\n          49.467,\n          51.467,\n          43.917\n        ],\n        \"semantic_type\": \"\",\n        \"description\": \"\"\n      }\n    },\n    {\n      \"column\": \"offer_class_group\",\n      \"properties\": {\n        \"dtype\": \"category\",\n        \"num_unique_values\": 9,\n        \"samples\": [\n          \"VIP\",\n          \"Standard\",\n          \"Test\"\n        ],\n        \"semantic_type\": \"\",\n        \"description\": \"\"\n      }\n    },\n    {\n      \"column\": \"ride_type_desc\",\n      \"properties\": {\n        \"dtype\": \"category\",\n        \"num_unique_values\": 4,\n        \"samples\": [\n          \"business\",\n          \"SMB\",\n          \"private\"\n        ],\n        \"semantic_type\": \"\",\n        \"description\": \"\"\n      }\n    },\n    {\n      \"column\": \"driver_response\",\n      \"properties\": {\n        \"dtype\": \"number\",\n        \"std\": 0,\n        \"min\": 0,\n        \"max\": 1,\n        \"num_unique_values\": 2,\n        \"samples\": [\n          1,\n          0\n        ],\n        \"semantic_type\": \"\",\n        \"description\": \"\"\n      }\n    }\n  ]\n}"
            }
          },
          "metadata": {},
          "execution_count": 3
        }
      ],
      "source": [
        "# Посмотрим как выглядят данные\n",
        "df.head()"
      ]
    },
    {
      "cell_type": "markdown",
      "source": [
        "Параметры:<br>\n",
        "offer_gk - глобальный идентификатор заказа<br>\n",
        "weekday_key - день недели заказа числом<br>\n",
        "hour_key - час заказа<br>\n",
        "driver_gk - глобальный идентификатор водителя<br>\n",
        "order_gk - глобальный идентификатор поездки<br>\n",
        "driver_latitude - широта местоположения водителя<br>\n",
        "driver_longitude - долгота местоположения водителя<br>\n",
        "origin_order_latitude - широта точки заказа<br>\n",
        "origin_order_longitude - долгота точки заказа<br>\n",
        "distance_km - расстояние в километрах<br>\n",
        "duration_min - время в пути в минутах<br>\n",
        "offer_class_group - класс поездки<br>\n",
        "ride_type_desc - класс заказчика<br>\n",
        "driver_response - решение водителя (принял или отклонил заказ)"
      ],
      "metadata": {
        "id": "xa_Nxga7ZD04"
      }
    },
    {
      "cell_type": "code",
      "execution_count": 4,
      "metadata": {
        "colab": {
          "base_uri": "https://localhost:8080/"
        },
        "id": "xTE8uoDkH4Dz",
        "outputId": "5b0b11ef-f89e-4cc2-c04b-071a5039bedf"
      },
      "outputs": [
        {
          "output_type": "execute_result",
          "data": {
            "text/plain": [
              "offer_gk                  0\n",
              "weekday_key               0\n",
              "hour_key                  0\n",
              "driver_gk                 0\n",
              "order_gk                  0\n",
              "driver_latitude           0\n",
              "driver_longitude          0\n",
              "origin_order_latitude     0\n",
              "origin_order_longitude    0\n",
              "distance_km               0\n",
              "duration_min              0\n",
              "offer_class_group         0\n",
              "ride_type_desc            0\n",
              "driver_response           0\n",
              "dtype: int64"
            ]
          },
          "metadata": {},
          "execution_count": 4
        }
      ],
      "source": [
        "df.isna().sum()"
      ]
    },
    {
      "cell_type": "markdown",
      "source": [
        "Пропусков в таблице нет"
      ],
      "metadata": {
        "id": "4KkBD86VZAl7"
      }
    },
    {
      "cell_type": "code",
      "execution_count": 6,
      "metadata": {
        "id": "XJzij6qEGC4h"
      },
      "outputs": [],
      "source": [
        "dff = df.loc[:, ['distance_km', \"duration_min\"]]"
      ]
    },
    {
      "cell_type": "code",
      "source": [
        "crr = dff.corr()"
      ],
      "metadata": {
        "id": "ztQi71obbK5h"
      },
      "execution_count": 7,
      "outputs": []
    },
    {
      "cell_type": "code",
      "source": [
        "sns.set(rc = {'figure.figsize':(3,3)})\n",
        "\n",
        "sns.heatmap(crr, annot = True, cmap=\"YlGnBu\", linecolor='white',linewidths=1)"
      ],
      "metadata": {
        "colab": {
          "base_uri": "https://localhost:8080/",
          "height": 404
        },
        "id": "s5NWBxCFY9aF",
        "outputId": "aa942f8c-b84c-46bf-cfca-9352c6a68c46"
      },
      "execution_count": 11,
      "outputs": [
        {
          "output_type": "execute_result",
          "data": {
            "text/plain": [
              "<Axes: >"
            ]
          },
          "metadata": {},
          "execution_count": 11
        },
        {
          "output_type": "display_data",
          "data": {
            "text/plain": [
              "<Figure size 300x300 with 2 Axes>"
            ],
            "image/png": "[encoded data removed]"
          },
          "metadata": {}
        }
      ]
    },
    {
      "cell_type": "markdown",
      "source": [
        "Значения distance_km и duration_min сильно коррелируют."
      ],
      "metadata": {
        "id": "liQJ1Re-bipg"
      }
    },
    {
      "cell_type": "code",
      "source": [
        "print(dff[(dff['distance_km'] == -1) & (dff['duration_min'] == -1)].shape)\n",
        "print(dff[dff['distance_km'] == -1].shape)"
      ],
      "metadata": {
        "colab": {
          "base_uri": "https://localhost:8080/"
        },
        "id": "e3i8LqasjH7K",
        "outputId": "26881224-29bf-4328-cbc2-72b671abe06b"
      },
      "execution_count": 14,
      "outputs": [
        {
          "output_type": "stream",
          "name": "stdout",
          "text": [
            "(26207, 2)\n",
            "(26207, 2)\n"
          ]
        }
      ]
    },
    {
      "cell_type": "markdown",
      "source": [
        "Одно из значений distance_km и duration_min равно -1 тогда и только тогда, когда -1 равно и второе значение<br>\n",
        "Вероятно, такая запись относится к заказу с несостоявшейся поездкой"
      ],
      "metadata": {
        "id": "m8OSTyqLjc_1"
      }
    },
    {
      "cell_type": "markdown",
      "source": [
        "Можно избавиться от полей с идентификаторами поездки и заказа, так как они уникальны в каждой записи и не несут информации, которая могла бы влиять на значение зависимой переменной"
      ],
      "metadata": {
        "id": "rP0Tjt2ljzgM"
      }
    },
    {
      "cell_type": "markdown",
      "source": [
        "Можно объединить широту и долготу в одну переменную координат положения.<br>\n",
        "Или вовсе избавиться от координат, добавив столбец со значением расстояния от местоположения водителя до точки заказа."
      ],
      "metadata": {
        "id": "ZOU2aujWnwET"
      }
    },
    {
      "cell_type": "code",
      "source": [
        "sns.set()\n",
        "columns = ['driver_latitude', 'driver_longitude']\n",
        "\n",
        "sns.pairplot(df[columns], kind ='scatter', diag_kind='kde')\n",
        "plt.show()"
      ],
      "metadata": {
        "colab": {
          "base_uri": "https://localhost:8080/",
          "height": 510
        },
        "id": "suazVYoorwqK",
        "outputId": "80dcc132-7baa-4e0b-fa9f-e4de0835c704"
      },
      "execution_count": 22,
      "outputs": [
        {
          "output_type": "display_data",
          "data": {
            "text/plain": [
              "<Figure size 500x500 with 6 Axes>"
            ],
            "image/png": "[encoded data removed]"
          },
          "metadata": {}
        }
      ]
    },
    {
      "cell_type": "code",
      "source": [
        "sns.set(rc = {'figure.figsize':(5,5)})\n",
        "y_data = pd.DataFrame(df['driver_response'])\n",
        "sns.countplot(x='driver_response', data=y_data, palette='hls')\n",
        "plt.show()"
      ],
      "metadata": {
        "colab": {
          "base_uri": "https://localhost:8080/",
          "height": 561
        },
        "id": "cQZjkRe1sN85",
        "outputId": "e4a6afe8-0a9d-4404-f5cf-4e7e0389ed79"
      },
      "execution_count": 24,
      "outputs": [
        {
          "output_type": "stream",
          "name": "stderr",
          "text": [
            "<ipython-input-24-ac3911da4484>:3: FutureWarning: \n",
            "\n",
            "Passing `palette` without assigning `hue` is deprecated and will be removed in v0.14.0. Assign the `x` variable to `hue` and set `legend=False` for the same effect.\n",
            "\n",
            "  sns.countplot(x='driver_response', data=y_data, palette='hls')\n"
          ]
        },
        {
          "output_type": "display_data",
          "data": {
            "text/plain": [
              "<Figure size 500x500 with 1 Axes>"
            ],
            "image/png": "[encoded data removed]"
          },
          "metadata": {}
        }
      ]
    },
    {
      "cell_type": "markdown",
      "source": [
        "Классы сбалансированы. Дополнять данные или отсекать не требуется."
      ],
      "metadata": {
        "id": "nf2M-PBgsdD7"
      }
    },
    {
      "cell_type": "code",
      "source": [
        "df.head()"
      ],
      "metadata": {
        "colab": {
          "base_uri": "https://localhost:8080/",
          "height": 226
        },
        "id": "2ThG5-hFueuc",
        "outputId": "5b757301-c2d7-45e8-fb01-1e01f59108b0"
      },
      "execution_count": 25,
      "outputs": [
        {
          "output_type": "execute_result",
          "data": {
            "text/plain": [
              "   offer_gk  weekday_key  hour_key  driver_gk  order_gk  driver_latitude  \\\n",
              "0   1105373            5        20       6080    174182        55.818842   \n",
              "1    759733            5        14       6080    358774        55.805342   \n",
              "2    416977            6        14       6080    866260        55.813978   \n",
              "3    889660            2         6       6080    163522        55.745922   \n",
              "4   1120055            4        16       6080    506710        55.803578   \n",
              "\n",
              "   driver_longitude  origin_order_latitude  origin_order_longitude  \\\n",
              "0         37.334562              55.814567               37.355010   \n",
              "1         37.515023              55.819329               37.466398   \n",
              "2         37.347688              55.814827               37.354074   \n",
              "3         37.421748              55.743469               37.431130   \n",
              "4         37.521602              55.812559               37.527407   \n",
              "\n",
              "   distance_km  duration_min offer_class_group ride_type_desc  driver_response  \n",
              "0       -1.000        -1.000           Economy        private                0  \n",
              "1       18.802        25.217          Standard        private                1  \n",
              "2        6.747         9.800           Economy        private                0  \n",
              "3       -1.000        -1.000           Economy        private                1  \n",
              "4       12.383        19.250           Economy        private                1  "
            ],
            "text/html": [
              "\n",
              "  <div id=\"df-298d0c50-428f-451e-ae62-8696c10ffc8d\" class=\"colab-df-container\">\n",
              "    <div>\n",
              "<style scoped>\n",
              "    .dataframe tbody tr th:only-of-type {\n",
              "        vertical-align: middle;\n",
              "    }\n",
              "\n",
              "    .dataframe tbody tr th {\n",
              "        vertical-align: top;\n",
              "    }\n",
              "\n",
              "    .dataframe thead th {\n",
              "        text-align: right;\n",
              "    }\n",
              "</style>\n",
              "<table border=\"1\" class=\"dataframe\">\n",
              "  <thead>\n",
              "    <tr style=\"text-align: right;\">\n",
              "      <th></th>\n",
              "      <th>offer_gk</th>\n",
              "      <th>weekday_key</th>\n",
              "      <th>hour_key</th>\n",
              "      <th>driver_gk</th>\n",
              "      <th>order_gk</th>\n",
              "      <th>driver_latitude</th>\n",
              "      <th>driver_longitude</th>\n",
              "      <th>origin_order_latitude</th>\n",
              "      <th>origin_order_longitude</th>\n",
              "      <th>distance_km</th>\n",
              "      <th>duration_min</th>\n",
              "      <th>offer_class_group</th>\n",
              "      <th>ride_type_desc</th>\n",
              "      <th>driver_response</th>\n",
              "    </tr>\n",
              "  </thead>\n",
              "  <tbody>\n",
              "    <tr>\n",
              "      <th>0</th>\n",
              "      <td>1105373</td>\n",
              "      <td>5</td>\n",
              "      <td>20</td>\n",
              "      <td>6080</td>\n",
              "      <td>174182</td>\n",
              "      <td>55.818842</td>\n",
              "      <td>37.334562</td>\n",
              "      <td>55.814567</td>\n",
              "      <td>37.355010</td>\n",
              "      <td>-1.000</td>\n",
              "      <td>-1.000</td>\n",
              "      <td>Economy</td>\n",
              "      <td>private</td>\n",
              "      <td>0</td>\n",
              "    </tr>\n",
              "    <tr>\n",
              "      <th>1</th>\n",
              "      <td>759733</td>\n",
              "      <td>5</td>\n",
              "      <td>14</td>\n",
              "      <td>6080</td>\n",
              "      <td>358774</td>\n",
              "      <td>55.805342</td>\n",
              "      <td>37.515023</td>\n",
              "      <td>55.819329</td>\n",
              "      <td>37.466398</td>\n",
              "      <td>18.802</td>\n",
              "      <td>25.217</td>\n",
              "      <td>Standard</td>\n",
              "      <td>private</td>\n",
              "      <td>1</td>\n",
              "    </tr>\n",
              "    <tr>\n",
              "      <th>2</th>\n",
              "      <td>416977</td>\n",
              "      <td>6</td>\n",
              "      <td>14</td>\n",
              "      <td>6080</td>\n",
              "      <td>866260</td>\n",
              "      <td>55.813978</td>\n",
              "      <td>37.347688</td>\n",
              "      <td>55.814827</td>\n",
              "      <td>37.354074</td>\n",
              "      <td>6.747</td>\n",
              "      <td>9.800</td>\n",
              "      <td>Economy</td>\n",
              "      <td>private</td>\n",
              "      <td>0</td>\n",
              "    </tr>\n",
              "    <tr>\n",
              "      <th>3</th>\n",
              "      <td>889660</td>\n",
              "      <td>2</td>\n",
              "      <td>6</td>\n",
              "      <td>6080</td>\n",
              "      <td>163522</td>\n",
              "      <td>55.745922</td>\n",
              "      <td>37.421748</td>\n",
              "      <td>55.743469</td>\n",
              "      <td>37.431130</td>\n",
              "      <td>-1.000</td>\n",
              "      <td>-1.000</td>\n",
              "      <td>Economy</td>\n",
              "      <td>private</td>\n",
              "      <td>1</td>\n",
              "    </tr>\n",
              "    <tr>\n",
              "      <th>4</th>\n",
              "      <td>1120055</td>\n",
              "      <td>4</td>\n",
              "      <td>16</td>\n",
              "      <td>6080</td>\n",
              "      <td>506710</td>\n",
              "      <td>55.803578</td>\n",
              "      <td>37.521602</td>\n",
              "      <td>55.812559</td>\n",
              "      <td>37.527407</td>\n",
              "      <td>12.383</td>\n",
              "      <td>19.250</td>\n",
              "      <td>Economy</td>\n",
              "      <td>private</td>\n",
              "      <td>1</td>\n",
              "    </tr>\n",
              "  </tbody>\n",
              "</table>\n",
              "</div>\n",
              "    <div class=\"colab-df-buttons\">\n",
              "\n",
              "  <div class=\"colab-df-container\">\n",
              "    <button class=\"colab-df-convert\" onclick=\"convertToInteractive('df-298d0c50-428f-451e-ae62-8696c10ffc8d')\"\n",
              "            title=\"Convert this dataframe to an interactive table.\"\n",
              "            style=\"display:none;\">\n",
              "\n",
              "  <svg xmlns=\"http://www.w3.org/2000/svg\" height=\"24px\" viewBox=\"0 -960 960 960\">\n",
              "    <path d=\"M120-120v-720h720v720H120Zm60-500h600v-160H180v160Zm220 220h160v-160H400v160Zm0 220h160v-160H400v160ZM180-400h160v-160H180v160Zm440 0h160v-160H620v160ZM180-180h160v-160H180v160Zm440 0h160v-160H620v160Z\"/>\n",
              "  </svg>\n",
              "    </button>\n",
              "\n",
              "  <style>\n",
              "    .colab-df-container {\n",
              "      display:flex;\n",
              "      gap: 12px;\n",
              "    }\n",
              "\n",
              "    .colab-df-convert {\n",
              "      background-color: #E8F0FE;\n",
              "      border: none;\n",
              "      border-radius: 50%;\n",
              "      cursor: pointer;\n",
              "      display: none;\n",
              "      fill: #1967D2;\n",
              "      height: 32px;\n",
              "      padding: 0 0 0 0;\n",
              "      width: 32px;\n",
              "    }\n",
              "\n",
              "    .colab-df-convert:hover {\n",
              "      background-color: #E2EBFA;\n",
              "      box-shadow: 0px 1px 2px rgba(60, 64, 67, 0.3), 0px 1px 3px 1px rgba(60, 64, 67, 0.15);\n",
              "      fill: #174EA6;\n",
              "    }\n",
              "\n",
              "    .colab-df-buttons div {\n",
              "      margin-bottom: 4px;\n",
              "    }\n",
              "\n",
              "    [theme=dark] .colab-df-convert {\n",
              "      background-color: #3B4455;\n",
              "      fill: #D2E3FC;\n",
              "    }\n",
              "\n",
              "    [theme=dark] .colab-df-convert:hover {\n",
              "      background-color: #434B5C;\n",
              "      box-shadow: 0px 1px 3px 1px rgba(0, 0, 0, 0.15);\n",
              "      filter: drop-shadow(0px 1px 2px rgba(0, 0, 0, 0.3));\n",
              "      fill: #FFFFFF;\n",
              "    }\n",
              "  </style>\n",
              "\n",
              "    <script>\n",
              "      const buttonEl =\n",
              "        document.querySelector('#df-298d0c50-428f-451e-ae62-8696c10ffc8d button.colab-df-convert');\n",
              "      buttonEl.style.display =\n",
              "        google.colab.kernel.accessAllowed ? 'block' : 'none';\n",
              "\n",
              "      async function convertToInteractive(key) {\n",
              "        const element = document.querySelector('#df-298d0c50-428f-451e-ae62-8696c10ffc8d');\n",
              "        const dataTable =\n",
              "          await google.colab.kernel.invokeFunction('convertToInteractive',\n",
              "                                                    [key], {});\n",
              "        if (!dataTable) return;\n",
              "\n",
              "        const docLinkHtml = 'Like what you see? Visit the ' +\n",
              "          '<a target=\"_blank\" href=https://colab.research.google.com/notebooks/data_table.ipynb>data table notebook</a>'\n",
              "          + ' to learn more about interactive tables.';\n",
              "        element.innerHTML = '';\n",
              "        dataTable['output_type'] = 'display_data';\n",
              "        await google.colab.output.renderOutput(dataTable, element);\n",
              "        const docLink = document.createElement('div');\n",
              "        docLink.innerHTML = docLinkHtml;\n",
              "        element.appendChild(docLink);\n",
              "      }\n",
              "    </script>\n",
              "  </div>\n",
              "\n",
              "\n",
              "<div id=\"df-c1cc2d9f-e73d-4e80-808b-e0fe8c911a0e\">\n",
              "  <button class=\"colab-df-quickchart\" onclick=\"quickchart('df-c1cc2d9f-e73d-4e80-808b-e0fe8c911a0e')\"\n",
              "            title=\"Suggest charts\"\n",
              "            style=\"display:none;\">\n",
              "\n",
              "<svg xmlns=\"http://www.w3.org/2000/svg\" height=\"24px\"viewBox=\"0 0 24 24\"\n",
              "     width=\"24px\">\n",
              "    <g>\n",
              "        <path d=\"M19 3H5c-1.1 0-2 .9-2 2v14c0 1.1.9 2 2 2h14c1.1 0 2-.9 2-2V5c0-1.1-.9-2-2-2zM9 17H7v-7h2v7zm4 0h-2V7h2v10zm4 0h-2v-4h2v4z\"/>\n",
              "    </g>\n",
              "</svg>\n",
              "  </button>\n",
              "\n",
              "<style>\n",
              "  .colab-df-quickchart {\n",
              "      --bg-color: #E8F0FE;\n",
              "      --fill-color: #1967D2;\n",
              "      --hover-bg-color: #E2EBFA;\n",
              "      --hover-fill-color: #174EA6;\n",
              "      --disabled-fill-color: #AAA;\n",
              "      --disabled-bg-color: #DDD;\n",
              "  }\n",
              "\n",
              "  [theme=dark] .colab-df-quickchart {\n",
              "      --bg-color: #3B4455;\n",
              "      --fill-color: #D2E3FC;\n",
              "      --hover-bg-color: #434B5C;\n",
              "      --hover-fill-color: #FFFFFF;\n",
              "      --disabled-bg-color: #3B4455;\n",
              "      --disabled-fill-color: #666;\n",
              "  }\n",
              "\n",
              "  .colab-df-quickchart {\n",
              "    background-color: var(--bg-color);\n",
              "    border: none;\n",
              "    border-radius: 50%;\n",
              "    cursor: pointer;\n",
              "    display: none;\n",
              "    fill: var(--fill-color);\n",
              "    height: 32px;\n",
              "    padding: 0;\n",
              "    width: 32px;\n",
              "  }\n",
              "\n",
              "  .colab-df-quickchart:hover {\n",
              "    background-color: var(--hover-bg-color);\n",
              "    box-shadow: 0 1px 2px rgba(60, 64, 67, 0.3), 0 1px 3px 1px rgba(60, 64, 67, 0.15);\n",
              "    fill: var(--button-hover-fill-color);\n",
              "  }\n",
              "\n",
              "  .colab-df-quickchart-complete:disabled,\n",
              "  .colab-df-quickchart-complete:disabled:hover {\n",
              "    background-color: var(--disabled-bg-color);\n",
              "    fill: var(--disabled-fill-color);\n",
              "    box-shadow: none;\n",
              "  }\n",
              "\n",
              "  .colab-df-spinner {\n",
              "    border: 2px solid var(--fill-color);\n",
              "    border-color: transparent;\n",
              "    border-bottom-color: var(--fill-color);\n",
              "    animation:\n",
              "      spin 1s steps(1) infinite;\n",
              "  }\n",
              "\n",
              "  @keyframes spin {\n",
              "    0% {\n",
              "      border-color: transparent;\n",
              "      border-bottom-color: var(--fill-color);\n",
              "      border-left-color: var(--fill-color);\n",
              "    }\n",
              "    20% {\n",
              "      border-color: transparent;\n",
              "      border-left-color: var(--fill-color);\n",
              "      border-top-color: var(--fill-color);\n",
              "    }\n",
              "    30% {\n",
              "      border-color: transparent;\n",
              "      border-left-color: var(--fill-color);\n",
              "      border-top-color: var(--fill-color);\n",
              "      border-right-color: var(--fill-color);\n",
              "    }\n",
              "    40% {\n",
              "      border-color: transparent;\n",
              "      border-right-color: var(--fill-color);\n",
              "      border-top-color: var(--fill-color);\n",
              "    }\n",
              "    60% {\n",
              "      border-color: transparent;\n",
              "      border-right-color: var(--fill-color);\n",
              "    }\n",
              "    80% {\n",
              "      border-color: transparent;\n",
              "      border-right-color: var(--fill-color);\n",
              "      border-bottom-color: var(--fill-color);\n",
              "    }\n",
              "    90% {\n",
              "      border-color: transparent;\n",
              "      border-bottom-color: var(--fill-color);\n",
              "    }\n",
              "  }\n",
              "</style>\n",
              "\n",
              "  <script>\n",
              "    async function quickchart(key) {\n",
              "      const quickchartButtonEl =\n",
              "        document.querySelector('#' + key + ' button');\n",
              "      quickchartButtonEl.disabled = true;  // To prevent multiple clicks.\n",
              "      quickchartButtonEl.classList.add('colab-df-spinner');\n",
              "      try {\n",
              "        const charts = await google.colab.kernel.invokeFunction(\n",
              "            'suggestCharts', [key], {});\n",
              "      } catch (error) {\n",
              "        console.error('Error during call to suggestCharts:', error);\n",
              "      }\n",
              "      quickchartButtonEl.classList.remove('colab-df-spinner');\n",
              "      quickchartButtonEl.classList.add('colab-df-quickchart-complete');\n",
              "    }\n",
              "    (() => {\n",
              "      let quickchartButtonEl =\n",
              "        document.querySelector('#df-c1cc2d9f-e73d-4e80-808b-e0fe8c911a0e button');\n",
              "      quickchartButtonEl.style.display =\n",
              "        google.colab.kernel.accessAllowed ? 'block' : 'none';\n",
              "    })();\n",
              "  </script>\n",
              "</div>\n",
              "    </div>\n",
              "  </div>\n"
            ],
            "application/vnd.google.colaboratory.intrinsic+json": {
              "type": "dataframe",
              "variable_name": "df",
              "summary": "{\n  \"name\": \"df\",\n  \"rows\": 100000,\n  \"fields\": [\n    {\n      \"column\": \"offer_gk\",\n      \"properties\": {\n        \"dtype\": \"number\",\n        \"std\": 325935,\n        \"min\": 4,\n        \"max\": 1130355,\n        \"num_unique_values\": 100000,\n        \"samples\": [\n          71835,\n          467692,\n          597620\n        ],\n        \"semantic_type\": \"\",\n        \"description\": \"\"\n      }\n    },\n    {\n      \"column\": \"weekday_key\",\n      \"properties\": {\n        \"dtype\": \"number\",\n        \"std\": 2,\n        \"min\": 0,\n        \"max\": 6,\n        \"num_unique_values\": 7,\n        \"samples\": [\n          5,\n          6,\n          1\n        ],\n        \"semantic_type\": \"\",\n        \"description\": \"\"\n      }\n    },\n    {\n      \"column\": \"hour_key\",\n      \"properties\": {\n        \"dtype\": \"number\",\n        \"std\": 7,\n        \"min\": 0,\n        \"max\": 23,\n        \"num_unique_values\": 24,\n        \"samples\": [\n          12,\n          5,\n          20\n        ],\n        \"semantic_type\": \"\",\n        \"description\": \"\"\n      }\n    },\n    {\n      \"column\": \"driver_gk\",\n      \"properties\": {\n        \"dtype\": \"number\",\n        \"std\": 2038,\n        \"min\": 14,\n        \"max\": 6806,\n        \"num_unique_values\": 439,\n        \"samples\": [\n          5298,\n          3270,\n          1266\n        ],\n        \"semantic_type\": \"\",\n        \"description\": \"\"\n      }\n    },\n    {\n      \"column\": \"order_gk\",\n      \"properties\": {\n        \"dtype\": \"number\",\n        \"std\": 266064,\n        \"min\": 18,\n        \"max\": 920344,\n        \"num_unique_values\": 81435,\n        \"samples\": [\n          600211,\n          793032,\n          547176\n        ],\n        \"semantic_type\": \"\",\n        \"description\": \"\"\n      }\n    },\n    {\n      \"column\": \"driver_latitude\",\n      \"properties\": {\n        \"dtype\": \"number\",\n        \"std\": 2.1359033069239124,\n        \"min\": -1.0,\n        \"max\": 56.174097,\n        \"num_unique_values\": 57259,\n        \"samples\": [\n          55.766554000000006,\n          55.868347,\n          55.717505\n        ],\n        \"semantic_type\": \"\",\n        \"description\": \"\"\n      }\n    },\n    {\n      \"column\": \"driver_longitude\",\n      \"properties\": {\n        \"dtype\": \"number\",\n        \"std\": 1.4546400152871557,\n        \"min\": -1.0,\n        \"max\": 38.280547,\n        \"num_unique_values\": 59906,\n        \"samples\": [\n          37.634016,\n          37.634842,\n          37.615245\n        ],\n        \"semantic_type\": \"\",\n        \"description\": \"\"\n      }\n    },\n    {\n      \"column\": \"origin_order_latitude\",\n      \"properties\": {\n        \"dtype\": \"number\",\n        \"std\": 0.6659849742137842,\n        \"min\": -1.0,\n        \"max\": 56.31112099999999,\n        \"num_unique_values\": 32925,\n        \"samples\": [\n          55.764386,\n          55.746197,\n          55.782998\n        ],\n        \"semantic_type\": \"\",\n        \"description\": \"\"\n      }\n    },\n    {\n      \"column\": \"origin_order_longitude\",\n      \"properties\": {\n        \"dtype\": \"number\",\n        \"std\": 0.46775823395618893,\n        \"min\": -1.0,\n        \"max\": 38.243608,\n        \"num_unique_values\": 33646,\n        \"samples\": [\n          37.446905,\n          37.402858,\n          37.564363\n        ],\n        \"semantic_type\": \"\",\n        \"description\": \"\"\n      }\n    },\n    {\n      \"column\": \"distance_km\",\n      \"properties\": {\n        \"dtype\": \"number\",\n        \"std\": 41.12929569282123,\n        \"min\": -1.0,\n        \"max\": 5234.282999999999,\n        \"num_unique_values\": 31297,\n        \"samples\": [\n          13.903,\n          4.338,\n          3.978\n        ],\n        \"semantic_type\": \"\",\n        \"description\": \"\"\n      }\n    },\n    {\n      \"column\": \"duration_min\",\n      \"properties\": {\n        \"dtype\": \"number\",\n        \"std\": 33.890105072772954,\n        \"min\": -1.0,\n        \"max\": 3958.283,\n        \"num_unique_values\": 4728,\n        \"samples\": [\n          49.467,\n          51.467,\n          43.917\n        ],\n        \"semantic_type\": \"\",\n        \"description\": \"\"\n      }\n    },\n    {\n      \"column\": \"offer_class_group\",\n      \"properties\": {\n        \"dtype\": \"category\",\n        \"num_unique_values\": 9,\n        \"samples\": [\n          \"VIP\",\n          \"Standard\",\n          \"Test\"\n        ],\n        \"semantic_type\": \"\",\n        \"description\": \"\"\n      }\n    },\n    {\n      \"column\": \"ride_type_desc\",\n      \"properties\": {\n        \"dtype\": \"category\",\n        \"num_unique_values\": 4,\n        \"samples\": [\n          \"business\",\n          \"SMB\",\n          \"private\"\n        ],\n        \"semantic_type\": \"\",\n        \"description\": \"\"\n      }\n    },\n    {\n      \"column\": \"driver_response\",\n      \"properties\": {\n        \"dtype\": \"number\",\n        \"std\": 0,\n        \"min\": 0,\n        \"max\": 1,\n        \"num_unique_values\": 2,\n        \"samples\": [\n          1,\n          0\n        ],\n        \"semantic_type\": \"\",\n        \"description\": \"\"\n      }\n    }\n  ]\n}"
            }
          },
          "metadata": {},
          "execution_count": 25
        }
      ]
    },
    {
      "cell_type": "code",
      "source": [
        "import numpy as np"
      ],
      "metadata": {
        "id": "tJpd7vM4uyDX"
      },
      "execution_count": 26,
      "outputs": []
    },
    {
      "cell_type": "code",
      "source": [
        "!pip install haversine"
      ],
      "metadata": {
        "colab": {
          "base_uri": "https://localhost:8080/"
        },
        "id": "5vu_4P7ew2cx",
        "outputId": "899b036d-b183-476a-f221-cafb331c238f"
      },
      "execution_count": 27,
      "outputs": [
        {
          "output_type": "stream",
          "name": "stdout",
          "text": [
            "Collecting haversine\n",
            "  Downloading haversine-2.8.1-py2.py3-none-any.whl (7.7 kB)\n",
            "Installing collected packages: haversine\n",
            "Successfully installed haversine-2.8.1\n"
          ]
        }
      ]
    },
    {
      "cell_type": "code",
      "source": [
        "from haversine import haversine"
      ],
      "metadata": {
        "id": "uVe7gt_rxFdA"
      },
      "execution_count": 30,
      "outputs": []
    },
    {
      "cell_type": "code",
      "source": [
        "df['init_distance'] = df.apply(lambda x: haversine((x['driver_latitude'], x['driver_longitude']), (x['origin_order_latitude'], x['origin_order_longitude'])), axis=1)"
      ],
      "metadata": {
        "id": "LSHQvtr9umYg"
      },
      "execution_count": 44,
      "outputs": []
    },
    {
      "cell_type": "code",
      "source": [
        "df['init_distance']"
      ],
      "metadata": {
        "colab": {
          "base_uri": "https://localhost:8080/"
        },
        "id": "N3BuEsYkxdes",
        "outputId": "a9bcd393-949d-4014-addb-bbe1d782aaf0"
      },
      "execution_count": 46,
      "outputs": [
        {
          "output_type": "execute_result",
          "data": {
            "text/plain": [
              "0        1.363047\n",
              "1        3.413097\n",
              "2        0.410000\n",
              "3        0.647473\n",
              "4        1.062483\n",
              "           ...   \n",
              "99995    0.621864\n",
              "99996    0.405427\n",
              "99997    0.204433\n",
              "99998    0.393915\n",
              "99999    0.433240\n",
              "Name: init_distance, Length: 100000, dtype: float64"
            ]
          },
          "metadata": {},
          "execution_count": 46
        }
      ]
    },
    {
      "cell_type": "code",
      "source": [
        "df = df.drop(columns=['driver_latitude', 'driver_longitude', 'origin_order_latitude', 'origin_order_longitude'])"
      ],
      "metadata": {
        "id": "DexHkAIe2wNU"
      },
      "execution_count": 47,
      "outputs": []
    },
    {
      "cell_type": "code",
      "source": [
        "df = df.drop(columns=['offer_gk', 'order_gk'])"
      ],
      "metadata": {
        "id": "Yl83h_OM3PFN"
      },
      "execution_count": 49,
      "outputs": []
    },
    {
      "cell_type": "code",
      "source": [
        "df['ride_type_desc'].unique()"
      ],
      "metadata": {
        "colab": {
          "base_uri": "https://localhost:8080/"
        },
        "id": "-EXRQyqo5d9r",
        "outputId": "8489670a-2614-412e-f921-1b2eff0e7718"
      },
      "execution_count": 53,
      "outputs": [
        {
          "output_type": "execute_result",
          "data": {
            "text/plain": [
              "array(['private', 'business', 'affiliate', 'SMB'], dtype=object)"
            ]
          },
          "metadata": {},
          "execution_count": 53
        }
      ]
    },
    {
      "cell_type": "code",
      "source": [
        "df['offer_class_group'].unique()"
      ],
      "metadata": {
        "colab": {
          "base_uri": "https://localhost:8080/"
        },
        "id": "8XGLIghX5ghj",
        "outputId": "649d2e89-8a86-42ba-b51c-467524a10e5f"
      },
      "execution_count": 54,
      "outputs": [
        {
          "output_type": "execute_result",
          "data": {
            "text/plain": [
              "array(['Economy', 'Standard', 'XL', 'Kids', 'Delivery', 'Test', 'Premium',\n",
              "       'VIP', 'VIP+'], dtype=object)"
            ]
          },
          "metadata": {},
          "execution_count": 54
        }
      ]
    },
    {
      "cell_type": "code",
      "source": [
        "from sklearn import preprocessing\n",
        "\n",
        "le = preprocessing.LabelEncoder()\n",
        "df['ride_type_desc'] = le.fit_transform(df['ride_type_desc'])\n",
        "df['offer_class_group'] = le.fit_transform(df['offer_class_group'])"
      ],
      "metadata": {
        "id": "nmFxLJ0U6O10"
      },
      "execution_count": 55,
      "outputs": []
    },
    {
      "cell_type": "markdown",
      "source": [
        "Перед обучением приведём категориальные признаки к числовому виду с помощью LabelEncoder."
      ],
      "metadata": {
        "id": "AChtYluG7KGE"
      }
    },
    {
      "cell_type": "markdown",
      "source": [
        "Как было замечено ранее, запись со значениями полей distance_km и\tduration_min, вероятно, относится к заказу с несостоявшейся поездкой.\n",
        "\n",
        "Такая запись в виде отрицательного числа может внести неясность при анализе.<br> К тому же, эти значения характеризуют поездку, но не влияют на решение водителя принимать заказ или нет (предполагается, что водитель не знает расположение точки B маршрута перед решением)"
      ],
      "metadata": {
        "id": "yP-4Q0a-6uYb"
      }
    },
    {
      "cell_type": "code",
      "source": [
        "df = df.drop(columns=['distance_km', 'duration_min'])"
      ],
      "metadata": {
        "id": "Gns23K7A6ppF"
      },
      "execution_count": 57,
      "outputs": []
    },
    {
      "cell_type": "code",
      "source": [
        "df.head()"
      ],
      "metadata": {
        "colab": {
          "base_uri": "https://localhost:8080/",
          "height": 206
        },
        "id": "Y-jHsXaY8fnm",
        "outputId": "bc2d3630-0cef-4210-f566-fd96133a3f51"
      },
      "execution_count": 58,
      "outputs": [
        {
          "output_type": "execute_result",
          "data": {
            "text/plain": [
              "   weekday_key  hour_key  driver_gk  offer_class_group  ride_type_desc  \\\n",
              "0            5        20       6080                  1               3   \n",
              "1            5        14       6080                  4               3   \n",
              "2            6        14       6080                  1               3   \n",
              "3            2         6       6080                  1               3   \n",
              "4            4        16       6080                  1               3   \n",
              "\n",
              "   driver_response  init_distance  \n",
              "0                0       1.363047  \n",
              "1                1       3.413097  \n",
              "2                0       0.410000  \n",
              "3                1       0.647473  \n",
              "4                1       1.062483  "
            ],
            "text/html": [
              "\n",
              "  <div id=\"df-32e4a180-98cf-4e4c-b7ee-a97bf60fc851\" class=\"colab-df-container\">\n",
              "    <div>\n",
              "<style scoped>\n",
              "    .dataframe tbody tr th:only-of-type {\n",
              "        vertical-align: middle;\n",
              "    }\n",
              "\n",
              "    .dataframe tbody tr th {\n",
              "        vertical-align: top;\n",
              "    }\n",
              "\n",
              "    .dataframe thead th {\n",
              "        text-align: right;\n",
              "    }\n",
              "</style>\n",
              "<table border=\"1\" class=\"dataframe\">\n",
              "  <thead>\n",
              "    <tr style=\"text-align: right;\">\n",
              "      <th></th>\n",
              "      <th>weekday_key</th>\n",
              "      <th>hour_key</th>\n",
              "      <th>driver_gk</th>\n",
              "      <th>offer_class_group</th>\n",
              "      <th>ride_type_desc</th>\n",
              "      <th>driver_response</th>\n",
              "      <th>init_distance</th>\n",
              "    </tr>\n",
              "  </thead>\n",
              "  <tbody>\n",
              "    <tr>\n",
              "      <th>0</th>\n",
              "      <td>5</td>\n",
              "      <td>20</td>\n",
              "      <td>6080</td>\n",
              "      <td>1</td>\n",
              "      <td>3</td>\n",
              "      <td>0</td>\n",
              "      <td>1.363047</td>\n",
              "    </tr>\n",
              "    <tr>\n",
              "      <th>1</th>\n",
              "      <td>5</td>\n",
              "      <td>14</td>\n",
              "      <td>6080</td>\n",
              "      <td>4</td>\n",
              "      <td>3</td>\n",
              "      <td>1</td>\n",
              "      <td>3.413097</td>\n",
              "    </tr>\n",
              "    <tr>\n",
              "      <th>2</th>\n",
              "      <td>6</td>\n",
              "      <td>14</td>\n",
              "      <td>6080</td>\n",
              "      <td>1</td>\n",
              "      <td>3</td>\n",
              "      <td>0</td>\n",
              "      <td>0.410000</td>\n",
              "    </tr>\n",
              "    <tr>\n",
              "      <th>3</th>\n",
              "      <td>2</td>\n",
              "      <td>6</td>\n",
              "      <td>6080</td>\n",
              "      <td>1</td>\n",
              "      <td>3</td>\n",
              "      <td>1</td>\n",
              "      <td>0.647473</td>\n",
              "    </tr>\n",
              "    <tr>\n",
              "      <th>4</th>\n",
              "      <td>4</td>\n",
              "      <td>16</td>\n",
              "      <td>6080</td>\n",
              "      <td>1</td>\n",
              "      <td>3</td>\n",
              "      <td>1</td>\n",
              "      <td>1.062483</td>\n",
              "    </tr>\n",
              "  </tbody>\n",
              "</table>\n",
              "</div>\n",
              "    <div class=\"colab-df-buttons\">\n",
              "\n",
              "  <div class=\"colab-df-container\">\n",
              "    <button class=\"colab-df-convert\" onclick=\"convertToInteractive('df-32e4a180-98cf-4e4c-b7ee-a97bf60fc851')\"\n",
              "            title=\"Convert this dataframe to an interactive table.\"\n",
              "            style=\"display:none;\">\n",
              "\n",
              "  <svg xmlns=\"http://www.w3.org/2000/svg\" height=\"24px\" viewBox=\"0 -960 960 960\">\n",
              "    <path d=\"M120-120v-720h720v720H120Zm60-500h600v-160H180v160Zm220 220h160v-160H400v160Zm0 220h160v-160H400v160ZM180-400h160v-160H180v160Zm440 0h160v-160H620v160ZM180-180h160v-160H180v160Zm440 0h160v-160H620v160Z\"/>\n",
              "  </svg>\n",
              "    </button>\n",
              "\n",
              "  <style>\n",
              "    .colab-df-container {\n",
              "      display:flex;\n",
              "      gap: 12px;\n",
              "    }\n",
              "\n",
              "    .colab-df-convert {\n",
              "      background-color: #E8F0FE;\n",
              "      border: none;\n",
              "      border-radius: 50%;\n",
              "      cursor: pointer;\n",
              "      display: none;\n",
              "      fill: #1967D2;\n",
              "      height: 32px;\n",
              "      padding: 0 0 0 0;\n",
              "      width: 32px;\n",
              "    }\n",
              "\n",
              "    .colab-df-convert:hover {\n",
              "      background-color: #E2EBFA;\n",
              "      box-shadow: 0px 1px 2px rgba(60, 64, 67, 0.3), 0px 1px 3px 1px rgba(60, 64, 67, 0.15);\n",
              "      fill: #174EA6;\n",
              "    }\n",
              "\n",
              "    .colab-df-buttons div {\n",
              "      margin-bottom: 4px;\n",
              "    }\n",
              "\n",
              "    [theme=dark] .colab-df-convert {\n",
              "      background-color: #3B4455;\n",
              "      fill: #D2E3FC;\n",
              "    }\n",
              "\n",
              "    [theme=dark] .colab-df-convert:hover {\n",
              "      background-color: #434B5C;\n",
              "      box-shadow: 0px 1px 3px 1px rgba(0, 0, 0, 0.15);\n",
              "      filter: drop-shadow(0px 1px 2px rgba(0, 0, 0, 0.3));\n",
              "      fill: #FFFFFF;\n",
              "    }\n",
              "  </style>\n",
              "\n",
              "    <script>\n",
              "      const buttonEl =\n",
              "        document.querySelector('#df-32e4a180-98cf-4e4c-b7ee-a97bf60fc851 button.colab-df-convert');\n",
              "      buttonEl.style.display =\n",
              "        google.colab.kernel.accessAllowed ? 'block' : 'none';\n",
              "\n",
              "      async function convertToInteractive(key) {\n",
              "        const element = document.querySelector('#df-32e4a180-98cf-4e4c-b7ee-a97bf60fc851');\n",
              "        const dataTable =\n",
              "          await google.colab.kernel.invokeFunction('convertToInteractive',\n",
              "                                                    [key], {});\n",
              "        if (!dataTable) return;\n",
              "\n",
              "        const docLinkHtml = 'Like what you see? Visit the ' +\n",
              "          '<a target=\"_blank\" href=https://colab.research.google.com/notebooks/data_table.ipynb>data table notebook</a>'\n",
              "          + ' to learn more about interactive tables.';\n",
              "        element.innerHTML = '';\n",
              "        dataTable['output_type'] = 'display_data';\n",
              "        await google.colab.output.renderOutput(dataTable, element);\n",
              "        const docLink = document.createElement('div');\n",
              "        docLink.innerHTML = docLinkHtml;\n",
              "        element.appendChild(docLink);\n",
              "      }\n",
              "    </script>\n",
              "  </div>\n",
              "\n",
              "\n",
              "<div id=\"df-59accbca-7e05-4efe-8292-622e5fdbd79d\">\n",
              "  <button class=\"colab-df-quickchart\" onclick=\"quickchart('df-59accbca-7e05-4efe-8292-622e5fdbd79d')\"\n",
              "            title=\"Suggest charts\"\n",
              "            style=\"display:none;\">\n",
              "\n",
              "<svg xmlns=\"http://www.w3.org/2000/svg\" height=\"24px\"viewBox=\"0 0 24 24\"\n",
              "     width=\"24px\">\n",
              "    <g>\n",
              "        <path d=\"M19 3H5c-1.1 0-2 .9-2 2v14c0 1.1.9 2 2 2h14c1.1 0 2-.9 2-2V5c0-1.1-.9-2-2-2zM9 17H7v-7h2v7zm4 0h-2V7h2v10zm4 0h-2v-4h2v4z\"/>\n",
              "    </g>\n",
              "</svg>\n",
              "  </button>\n",
              "\n",
              "<style>\n",
              "  .colab-df-quickchart {\n",
              "      --bg-color: #E8F0FE;\n",
              "      --fill-color: #1967D2;\n",
              "      --hover-bg-color: #E2EBFA;\n",
              "      --hover-fill-color: #174EA6;\n",
              "      --disabled-fill-color: #AAA;\n",
              "      --disabled-bg-color: #DDD;\n",
              "  }\n",
              "\n",
              "  [theme=dark] .colab-df-quickchart {\n",
              "      --bg-color: #3B4455;\n",
              "      --fill-color: #D2E3FC;\n",
              "      --hover-bg-color: #434B5C;\n",
              "      --hover-fill-color: #FFFFFF;\n",
              "      --disabled-bg-color: #3B4455;\n",
              "      --disabled-fill-color: #666;\n",
              "  }\n",
              "\n",
              "  .colab-df-quickchart {\n",
              "    background-color: var(--bg-color);\n",
              "    border: none;\n",
              "    border-radius: 50%;\n",
              "    cursor: pointer;\n",
              "    display: none;\n",
              "    fill: var(--fill-color);\n",
              "    height: 32px;\n",
              "    padding: 0;\n",
              "    width: 32px;\n",
              "  }\n",
              "\n",
              "  .colab-df-quickchart:hover {\n",
              "    background-color: var(--hover-bg-color);\n",
              "    box-shadow: 0 1px 2px rgba(60, 64, 67, 0.3), 0 1px 3px 1px rgba(60, 64, 67, 0.15);\n",
              "    fill: var(--button-hover-fill-color);\n",
              "  }\n",
              "\n",
              "  .colab-df-quickchart-complete:disabled,\n",
              "  .colab-df-quickchart-complete:disabled:hover {\n",
              "    background-color: var(--disabled-bg-color);\n",
              "    fill: var(--disabled-fill-color);\n",
              "    box-shadow: none;\n",
              "  }\n",
              "\n",
              "  .colab-df-spinner {\n",
              "    border: 2px solid var(--fill-color);\n",
              "    border-color: transparent;\n",
              "    border-bottom-color: var(--fill-color);\n",
              "    animation:\n",
              "      spin 1s steps(1) infinite;\n",
              "  }\n",
              "\n",
              "  @keyframes spin {\n",
              "    0% {\n",
              "      border-color: transparent;\n",
              "      border-bottom-color: var(--fill-color);\n",
              "      border-left-color: var(--fill-color);\n",
              "    }\n",
              "    20% {\n",
              "      border-color: transparent;\n",
              "      border-left-color: var(--fill-color);\n",
              "      border-top-color: var(--fill-color);\n",
              "    }\n",
              "    30% {\n",
              "      border-color: transparent;\n",
              "      border-left-color: var(--fill-color);\n",
              "      border-top-color: var(--fill-color);\n",
              "      border-right-color: var(--fill-color);\n",
              "    }\n",
              "    40% {\n",
              "      border-color: transparent;\n",
              "      border-right-color: var(--fill-color);\n",
              "      border-top-color: var(--fill-color);\n",
              "    }\n",
              "    60% {\n",
              "      border-color: transparent;\n",
              "      border-right-color: var(--fill-color);\n",
              "    }\n",
              "    80% {\n",
              "      border-color: transparent;\n",
              "      border-right-color: var(--fill-color);\n",
              "      border-bottom-color: var(--fill-color);\n",
              "    }\n",
              "    90% {\n",
              "      border-color: transparent;\n",
              "      border-bottom-color: var(--fill-color);\n",
              "    }\n",
              "  }\n",
              "</style>\n",
              "\n",
              "  <script>\n",
              "    async function quickchart(key) {\n",
              "      const quickchartButtonEl =\n",
              "        document.querySelector('#' + key + ' button');\n",
              "      quickchartButtonEl.disabled = true;  // To prevent multiple clicks.\n",
              "      quickchartButtonEl.classList.add('colab-df-spinner');\n",
              "      try {\n",
              "        const charts = await google.colab.kernel.invokeFunction(\n",
              "            'suggestCharts', [key], {});\n",
              "      } catch (error) {\n",
              "        console.error('Error during call to suggestCharts:', error);\n",
              "      }\n",
              "      quickchartButtonEl.classList.remove('colab-df-spinner');\n",
              "      quickchartButtonEl.classList.add('colab-df-quickchart-complete');\n",
              "    }\n",
              "    (() => {\n",
              "      let quickchartButtonEl =\n",
              "        document.querySelector('#df-59accbca-7e05-4efe-8292-622e5fdbd79d button');\n",
              "      quickchartButtonEl.style.display =\n",
              "        google.colab.kernel.accessAllowed ? 'block' : 'none';\n",
              "    })();\n",
              "  </script>\n",
              "</div>\n",
              "    </div>\n",
              "  </div>\n"
            ],
            "application/vnd.google.colaboratory.intrinsic+json": {
              "type": "dataframe",
              "variable_name": "df",
              "summary": "{\n  \"name\": \"df\",\n  \"rows\": 100000,\n  \"fields\": [\n    {\n      \"column\": \"weekday_key\",\n      \"properties\": {\n        \"dtype\": \"number\",\n        \"std\": 2,\n        \"min\": 0,\n        \"max\": 6,\n        \"num_unique_values\": 7,\n        \"samples\": [\n          5,\n          6,\n          1\n        ],\n        \"semantic_type\": \"\",\n        \"description\": \"\"\n      }\n    },\n    {\n      \"column\": \"hour_key\",\n      \"properties\": {\n        \"dtype\": \"number\",\n        \"std\": 7,\n        \"min\": 0,\n        \"max\": 23,\n        \"num_unique_values\": 24,\n        \"samples\": [\n          12,\n          5,\n          20\n        ],\n        \"semantic_type\": \"\",\n        \"description\": \"\"\n      }\n    },\n    {\n      \"column\": \"driver_gk\",\n      \"properties\": {\n        \"dtype\": \"number\",\n        \"std\": 2038,\n        \"min\": 14,\n        \"max\": 6806,\n        \"num_unique_values\": 439,\n        \"samples\": [\n          5298,\n          3270,\n          1266\n        ],\n        \"semantic_type\": \"\",\n        \"description\": \"\"\n      }\n    },\n    {\n      \"column\": \"offer_class_group\",\n      \"properties\": {\n        \"dtype\": \"number\",\n        \"std\": 1,\n        \"min\": 0,\n        \"max\": 8,\n        \"num_unique_values\": 9,\n        \"samples\": [\n          6,\n          4,\n          5\n        ],\n        \"semantic_type\": \"\",\n        \"description\": \"\"\n      }\n    },\n    {\n      \"column\": \"ride_type_desc\",\n      \"properties\": {\n        \"dtype\": \"number\",\n        \"std\": 0,\n        \"min\": 0,\n        \"max\": 3,\n        \"num_unique_values\": 4,\n        \"samples\": [\n          2,\n          0,\n          3\n        ],\n        \"semantic_type\": \"\",\n        \"description\": \"\"\n      }\n    },\n    {\n      \"column\": \"driver_response\",\n      \"properties\": {\n        \"dtype\": \"number\",\n        \"std\": 0,\n        \"min\": 0,\n        \"max\": 1,\n        \"num_unique_values\": 2,\n        \"samples\": [\n          1,\n          0\n        ],\n        \"semantic_type\": \"\",\n        \"description\": \"\"\n      }\n    },\n    {\n      \"column\": \"init_distance\",\n      \"properties\": {\n        \"dtype\": \"number\",\n        \"std\": 282.19342170209273,\n        \"min\": 0.0,\n        \"max\": 7276.413211318838,\n        \"num_unique_values\": 74399,\n        \"samples\": [\n          0.18529430127555133,\n          1.5509681387520537\n        ],\n        \"semantic_type\": \"\",\n        \"description\": \"\"\n      }\n    }\n  ]\n}"
            }
          },
          "metadata": {},
          "execution_count": 58
        }
      ]
    },
    {
      "cell_type": "markdown",
      "source": [
        "Разделим выборку на тренировочную и тестовую"
      ],
      "metadata": {
        "id": "iNFu-6YJ8jEW"
      }
    },
    {
      "cell_type": "code",
      "source": [
        "X = df.drop(columns=['driver_response'])\n",
        "y = df['driver_response']"
      ],
      "metadata": {
        "id": "XpBErev08lwY"
      },
      "execution_count": 59,
      "outputs": []
    },
    {
      "cell_type": "code",
      "source": [
        "from sklearn.model_selection import train_test_split\n",
        "\n",
        "X_train, X_test, y_train, y_test = train_test_split(X, y, test_size=0.3)\n",
        "\n",
        "print(f'Train dataset size: {X_train.shape}, {y_train.shape}')\n",
        "print(f'Train dataset size: {X_test.shape}, {y_test.shape}')"
      ],
      "metadata": {
        "colab": {
          "base_uri": "https://localhost:8080/"
        },
        "id": "jmLSyajO8wuB",
        "outputId": "ce597731-2f2b-409d-f09a-e670503e4e32"
      },
      "execution_count": 60,
      "outputs": [
        {
          "output_type": "stream",
          "name": "stdout",
          "text": [
            "Train dataset size: (70000, 6), (70000,)\n",
            "Train dataset size: (30000, 6), (30000,)\n"
          ]
        }
      ]
    },
    {
      "cell_type": "code",
      "source": [
        "from sklearn.tree import DecisionTreeClassifier\n",
        "\n",
        "# Модель дерева решений\n",
        "model = DecisionTreeClassifier()\n",
        "model.fit(X_train, y_train)\n",
        "\n",
        "answers_pred = model.predict(X_test)"
      ],
      "metadata": {
        "id": "p2VSPmBb81u7"
      },
      "execution_count": 86,
      "outputs": []
    },
    {
      "cell_type": "code",
      "source": [
        "from sklearn.metrics import accuracy_score, precision_score, recall_score\n",
        "\n",
        "print(f'Accuracy: {accuracy_score(y_test, answers_pred)}')"
      ],
      "metadata": {
        "colab": {
          "base_uri": "https://localhost:8080/"
        },
        "id": "6keGW-Dz84eK",
        "outputId": "ed9230cf-442e-467a-b535-328ca53fd5cb"
      },
      "execution_count": 87,
      "outputs": [
        {
          "output_type": "stream",
          "name": "stdout",
          "text": [
            "Accuracy: 0.7507\n"
          ]
        }
      ]
    },
    {
      "cell_type": "code",
      "source": [
        "from sklearn.metrics import ConfusionMatrixDisplay\n",
        "from sklearn.metrics import confusion_matrix\n",
        "\n",
        "conf_matrix = confusion_matrix(y_test, answers_pred)\n",
        "\n",
        "fig, ax = plt.subplots(figsize=(8,6), dpi=100)\n",
        "\n",
        "display = ConfusionMatrixDisplay(conf_matrix, display_labels=model.classes_)\n",
        "\n",
        "display.plot(ax=ax)"
      ],
      "metadata": {
        "colab": {
          "base_uri": "https://localhost:8080/",
          "height": 567
        },
        "id": "GSc9y88z9BcL",
        "outputId": "7e3ec285-4d51-41d3-effb-bede631c2e22"
      },
      "execution_count": 88,
      "outputs": [
        {
          "output_type": "execute_result",
          "data": {
            "text/plain": [
              "<sklearn.metrics._plot.confusion_matrix.ConfusionMatrixDisplay at 0x7c07bcc65ba0>"
            ]
          },
          "metadata": {},
          "execution_count": 88
        },
        {
          "output_type": "display_data",
          "data": {
            "text/plain": [
              "<Figure size 800x600 with 2 Axes>"
            ],
            "image/png": "[encoded data removed]"
          },
          "metadata": {}
        }
      ]
    },
    {
      "cell_type": "code",
      "source": [
        "from sklearn.metrics import classification_report\n",
        "print(classification_report(y_test, answers_pred))"
      ],
      "metadata": {
        "colab": {
          "base_uri": "https://localhost:8080/"
        },
        "id": "Rfv0t6Qv_28-",
        "outputId": "541f7063-d9f6-4642-a57c-3f25131f2385"
      },
      "execution_count": 100,
      "outputs": [
        {
          "output_type": "stream",
          "name": "stdout",
          "text": [
            "              precision    recall  f1-score   support\n",
            "\n",
            "           0       0.74      0.78      0.76     15165\n",
            "           1       0.76      0.73      0.74     14835\n",
            "\n",
            "    accuracy                           0.75     30000\n",
            "   macro avg       0.75      0.75      0.75     30000\n",
            "weighted avg       0.75      0.75      0.75     30000\n",
            "\n"
          ]
        }
      ]
    },
    {
      "cell_type": "code",
      "source": [
        "from sklearn.linear_model import LogisticRegression\n",
        "logreg = LogisticRegression(max_iter=1000)\n",
        "logreg.fit(X_train, y_train)"
      ],
      "metadata": {
        "colab": {
          "base_uri": "https://localhost:8080/",
          "height": 74
        },
        "id": "V5HR0Qet-d4b",
        "outputId": "4fb8763e-7618-432d-baa4-1bac30596c9c"
      },
      "execution_count": 96,
      "outputs": [
        {
          "output_type": "execute_result",
          "data": {
            "text/plain": [
              "LogisticRegression(max_iter=1000)"
            ],
            "text/html": [
              "<style>#sk-container-id-5 {color: black;background-color: white;}#sk-container-id-5 pre{padding: 0;}#sk-container-id-5 div.sk-toggleable {background-color: white;}#sk-container-id-5 label.sk-toggleable__label {cursor: pointer;display: block;width: 100%;margin-bottom: 0;padding: 0.3em;box-sizing: border-box;text-align: center;}#sk-container-id-5 label.sk-toggleable__label-arrow:before {content: \"▸\";float: left;margin-right: 0.25em;color: #696969;}#sk-container-id-5 label.sk-toggleable__label-arrow:hover:before {color: black;}#sk-container-id-5 div.sk-estimator:hover label.sk-toggleable__label-arrow:before {color: black;}#sk-container-id-5 div.sk-toggleable__content {max-height: 0;max-width: 0;overflow: hidden;text-align: left;background-color: #f0f8ff;}#sk-container-id-5 div.sk-toggleable__content pre {margin: 0.2em;color: black;border-radius: 0.25em;background-color: #f0f8ff;}#sk-container-id-5 input.sk-toggleable__control:checked~div.sk-toggleable__content {max-height: 200px;max-width: 100%;overflow: auto;}#sk-container-id-5 input.sk-toggleable__control:checked~label.sk-toggleable__label-arrow:before {content: \"▾\";}#sk-container-id-5 div.sk-estimator input.sk-toggleable__control:checked~label.sk-toggleable__label {background-color: #d4ebff;}#sk-container-id-5 div.sk-label input.sk-toggleable__control:checked~label.sk-toggleable__label {background-color: #d4ebff;}#sk-container-id-5 input.sk-hidden--visually {border: 0;clip: rect(1px 1px 1px 1px);clip: rect(1px, 1px, 1px, 1px);height: 1px;margin: -1px;overflow: hidden;padding: 0;position: absolute;width: 1px;}#sk-container-id-5 div.sk-estimator {font-family: monospace;background-color: #f0f8ff;border: 1px dotted black;border-radius: 0.25em;box-sizing: border-box;margin-bottom: 0.5em;}#sk-container-id-5 div.sk-estimator:hover {background-color: #d4ebff;}#sk-container-id-5 div.sk-parallel-item::after {content: \"\";width: 100%;border-bottom: 1px solid gray;flex-grow: 1;}#sk-container-id-5 div.sk-label:hover label.sk-toggleable__label {background-color: #d4ebff;}#sk-container-id-5 div.sk-serial::before {content: \"\";position: absolute;border-left: 1px solid gray;box-sizing: border-box;top: 0;bottom: 0;left: 50%;z-index: 0;}#sk-container-id-5 div.sk-serial {display: flex;flex-direction: column;align-items: center;background-color: white;padding-right: 0.2em;padding-left: 0.2em;position: relative;}#sk-container-id-5 div.sk-item {position: relative;z-index: 1;}#sk-container-id-5 div.sk-parallel {display: flex;align-items: stretch;justify-content: center;background-color: white;position: relative;}#sk-container-id-5 div.sk-item::before, #sk-container-id-5 div.sk-parallel-item::before {content: \"\";position: absolute;border-left: 1px solid gray;box-sizing: border-box;top: 0;bottom: 0;left: 50%;z-index: -1;}#sk-container-id-5 div.sk-parallel-item {display: flex;flex-direction: column;z-index: 1;position: relative;background-color: white;}#sk-container-id-5 div.sk-parallel-item:first-child::after {align-self: flex-end;width: 50%;}#sk-container-id-5 div.sk-parallel-item:last-child::after {align-self: flex-start;width: 50%;}#sk-container-id-5 div.sk-parallel-item:only-child::after {width: 0;}#sk-container-id-5 div.sk-dashed-wrapped {border: 1px dashed gray;margin: 0 0.4em 0.5em 0.4em;box-sizing: border-box;padding-bottom: 0.4em;background-color: white;}#sk-container-id-5 div.sk-label label {font-family: monospace;font-weight: bold;display: inline-block;line-height: 1.2em;}#sk-container-id-5 div.sk-label-container {text-align: center;}#sk-container-id-5 div.sk-container {/* jupyter's `normalize.less` sets `[hidden] { display: none; }` but bootstrap.min.css set `[hidden] { display: none !important; }` so we also need the `!important` here to be able to override the default hidden behavior on the sphinx rendered scikit-learn.org. See: https://github.com/scikit-learn/scikit-learn/issues/21755 */display: inline-block !important;position: relative;}#sk-container-id-5 div.sk-text-repr-fallback {display: none;}</style><div id=\"sk-container-id-5\" class=\"sk-top-container\"><div class=\"sk-text-repr-fallback\"><pre>LogisticRegression(max_iter=1000)</pre><b>In a Jupyter environment, please rerun this cell to show the HTML representation or trust the notebook. <br />On GitHub, the HTML representation is unable to render, please try loading this page with nbviewer.org.</b></div><div class=\"sk-container\" hidden><div class=\"sk-item\"><div class=\"sk-estimator sk-toggleable\"><input class=\"sk-toggleable__control sk-hidden--visually\" id=\"sk-estimator-id-5\" type=\"checkbox\" checked><label for=\"sk-estimator-id-5\" class=\"sk-toggleable__label sk-toggleable__label-arrow\">LogisticRegression</label><div class=\"sk-toggleable__content\"><pre>LogisticRegression(max_iter=1000)</pre></div></div></div></div></div>"
            ]
          },
          "metadata": {},
          "execution_count": 96
        }
      ]
    },
    {
      "cell_type": "code",
      "source": [
        "answers_pred_log = logreg.predict(X_test)"
      ],
      "metadata": {
        "id": "KcNhl8G--p1H"
      },
      "execution_count": 97,
      "outputs": []
    },
    {
      "cell_type": "code",
      "source": [
        "print(f'Accuracy: {accuracy_score(y_test, answers_pred_log)}')"
      ],
      "metadata": {
        "colab": {
          "base_uri": "https://localhost:8080/"
        },
        "id": "OND4pxJ9-vBv",
        "outputId": "6cfa3a55-a003-4b27-f2f8-e32f3137ea92"
      },
      "execution_count": 98,
      "outputs": [
        {
          "output_type": "stream",
          "name": "stdout",
          "text": [
            "Accuracy: 0.5478333333333333\n"
          ]
        }
      ]
    },
    {
      "cell_type": "code",
      "source": [
        "conf_matrix = confusion_matrix(y_test, answers_pred_log)\n",
        "\n",
        "fig, ax = plt.subplots(figsize=(8,6), dpi=100)\n",
        "\n",
        "display = ConfusionMatrixDisplay(conf_matrix, display_labels=logreg.classes_)\n",
        "\n",
        "display.plot(ax=ax)"
      ],
      "metadata": {
        "colab": {
          "base_uri": "https://localhost:8080/",
          "height": 571
        },
        "id": "-J_EJUbq_8SD",
        "outputId": "49b62c41-b75e-45a3-ec82-12bf1712c24d"
      },
      "execution_count": 102,
      "outputs": [
        {
          "output_type": "execute_result",
          "data": {
            "text/plain": [
              "<sklearn.metrics._plot.confusion_matrix.ConfusionMatrixDisplay at 0x7c07bb6a08b0>"
            ]
          },
          "metadata": {},
          "execution_count": 102
        },
        {
          "output_type": "display_data",
          "data": {
            "text/plain": [
              "<Figure size 800x600 with 2 Axes>"
            ],
            "image/png": "[encoded data removed]"
          },
          "metadata": {}
        }
      ]
    },
    {
      "cell_type": "code",
      "source": [
        "print(classification_report(y_test, answers_pred_log))"
      ],
      "metadata": {
        "colab": {
          "base_uri": "https://localhost:8080/"
        },
        "id": "NB94Iwpm_TWT",
        "outputId": "a4bc3d11-3928-4b28-941c-15a6c582b757"
      },
      "execution_count": 99,
      "outputs": [
        {
          "output_type": "stream",
          "name": "stdout",
          "text": [
            "              precision    recall  f1-score   support\n",
            "\n",
            "           0       0.55      0.63      0.58     15165\n",
            "           1       0.55      0.47      0.50     14835\n",
            "\n",
            "    accuracy                           0.55     30000\n",
            "   macro avg       0.55      0.55      0.54     30000\n",
            "weighted avg       0.55      0.55      0.54     30000\n",
            "\n"
          ]
        }
      ]
    },
    {
      "cell_type": "markdown",
      "source": [
        "Наилучшим образом себя показала модель дерева решений"
      ],
      "metadata": {
        "id": "fcv9xRqnAJRB"
      }
    }
  ],
  "metadata": {
    "colab": {
      "provenance": []
    },
    "kernelspec": {
      "display_name": "Python 3",
      "name": "python3"
    },
    "language_info": {
      "name": "python"
    }
  },
  "nbformat": 4,
  "nbformat_minor": 0
}